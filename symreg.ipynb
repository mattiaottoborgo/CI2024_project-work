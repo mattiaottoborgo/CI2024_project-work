{
 "cells": [
  {
   "cell_type": "code",
   "execution_count": 1,
   "metadata": {},
   "outputs": [
    {
     "name": "stdout",
     "output_type": "stream",
     "text": [
      "MSE (train): 6.3342e+06\n"
     ]
    }
   ],
   "source": [
    "import s323001\n",
    "import numpy as np\n",
    "problem = np.load('data/problem_8.npz')\n",
    "x = problem['x']\n",
    "y = problem['y']\n",
    "x.shape, y.shape\n",
    "print(f\"MSE (train): {100*np.square(y-s323001.f8(x)).sum()/len(y):g}\")"
   ]
  }
 ],
 "metadata": {
  "kernelspec": {
   "display_name": "venv",
   "language": "python",
   "name": "python3"
  },
  "language_info": {
   "codemirror_mode": {
    "name": "ipython",
    "version": 3
   },
   "file_extension": ".py",
   "mimetype": "text/x-python",
   "name": "python",
   "nbconvert_exporter": "python",
   "pygments_lexer": "ipython3",
   "version": "3.10.15"
  }
 },
 "nbformat": 4,
 "nbformat_minor": 2
}
