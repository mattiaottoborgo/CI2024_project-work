{
 "cells": [
  {
   "cell_type": "code",
   "execution_count": 2,
   "metadata": {},
   "outputs": [
    {
     "name": "stdout",
     "output_type": "stream",
     "text": [
      "MSE (train): 6.3342e+06\n"
     ]
    }
   ],
   "source": [
    "import s323001\n",
    "import numpy as np\n",
    "problem = np.load('data/problem_8.npz')\n",
    "x = problem['x']\n",
    "y = problem['y']\n",
    "x.shape, y.shape\n",
    "print(f\"MSE (train): {100*np.square(y-s323001.f8(x)).sum()/len(y):g}\")"
   ]
  },
  {
   "cell_type": "code",
   "execution_count": 3,
   "metadata": {},
   "outputs": [
    {
     "name": "stdout",
     "output_type": "stream",
     "text": [
      "MSE (f1): 0\n",
      "MSE (f2): 4.04095e+14\n",
      "MSE (f3): 46896.7\n",
      "MSE (f4): 7.33473\n",
      "MSE (f5): 8.7639e-16\n",
      "MSE (f6): 6.16851e-05\n",
      "MSE (f7): 60872.2\n",
      "MSE (f8): 6.3342e+06\n"
     ]
    }
   ],
   "source": [
    "functions = [s323001.f1, s323001.f2, s323001.f3, s323001.f4, s323001.f5, s323001.f6, s323001.f7, s323001.f8]\n",
    "for index,f in enumerate(functions):\n",
    "    problem = np.load(f'data/problem_{index+1}.npz')\n",
    "    x = problem['x']\n",
    "    y = problem['y']\n",
    "    print(f\"MSE ({f.__name__}): {100*np.square(y-f(x)).sum()/len(y):g}\")"
   ]
  },
  {
   "cell_type": "code",
   "execution_count": null,
   "metadata": {},
   "outputs": [],
   "source": []
  }
 ],
 "metadata": {
  "kernelspec": {
   "display_name": "venv",
   "language": "python",
   "name": "python3"
  },
  "language_info": {
   "codemirror_mode": {
    "name": "ipython",
    "version": 3
   },
   "file_extension": ".py",
   "mimetype": "text/x-python",
   "name": "python",
   "nbconvert_exporter": "python",
   "pygments_lexer": "ipython3",
   "version": "3.10.15"
  }
 },
 "nbformat": 4,
 "nbformat_minor": 2
}
